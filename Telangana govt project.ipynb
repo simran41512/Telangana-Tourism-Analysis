{
 "cells": [
  {
   "cell_type": "code",
   "execution_count": 1,
   "id": "611181b1-570a-4e98-b6f5-b69797c61372",
   "metadata": {},
   "outputs": [],
   "source": [
    "import numpy as np\n",
    "import pandas as pd"
   ]
  },
  {
   "cell_type": "code",
   "execution_count": 2,
   "id": "8d534d44-7564-46ed-b7fd-5c2f8620b29b",
   "metadata": {},
   "outputs": [],
   "source": [
    "dv19=pd.read_csv(\"C:/Users/lenovo/OneDrive/Desktop/Telangana Project/domestic visitors/domestic_visitors_2019.csv\")\n",
    "dv16=pd.read_csv(\"C:/Users/lenovo/OneDrive/Desktop/Telangana Project/domestic visitors/domestic_visitors_2016.csv\")\n",
    "dv17=pd.read_csv(\"C:/Users/lenovo/OneDrive/Desktop/Telangana Project/domestic visitors/domestic_visitors_2017.csv\")\n",
    "dv18=pd.read_csv(\"C:/Users/lenovo/OneDrive/Desktop/Telangana Project/domestic visitors/domestic_visitors_2018.csv\")"
   ]
  },
  {
   "cell_type": "code",
   "execution_count": 3,
   "id": "483d7f0b-610a-4c69-9cd2-549ff311e453",
   "metadata": {},
   "outputs": [
    {
     "data": {
      "text/plain": [
       "(396, 5)"
      ]
     },
     "execution_count": 3,
     "metadata": {},
     "output_type": "execute_result"
    }
   ],
   "source": [
    "dv19.shape"
   ]
  },
  {
   "cell_type": "code",
   "execution_count": 4,
   "id": "e4d2fb62-4d6a-4f17-9f70-b4aefd12bcd0",
   "metadata": {},
   "outputs": [],
   "source": [
    "dv=pd.concat([dv16,dv17,dv18,dv19])"
   ]
  },
  {
   "cell_type": "code",
   "execution_count": 5,
   "id": "1805e00c-eb5d-47d1-9737-3992dd94b725",
   "metadata": {},
   "outputs": [
    {
     "data": {
      "text/plain": [
       "(1512, 5)"
      ]
     },
     "execution_count": 5,
     "metadata": {},
     "output_type": "execute_result"
    }
   ],
   "source": [
    "dv.shape"
   ]
  },
  {
   "cell_type": "code",
   "execution_count": 6,
   "id": "d193ad4e-7591-42d0-a758-95e0d7fd4009",
   "metadata": {},
   "outputs": [],
   "source": [
    "fv16=pd.read_csv(\"C:/Users/lenovo/OneDrive/Desktop/Telangana Project/foreign visitors/foreign_visitors_2016.csv\")\n",
    "fv17=pd.read_csv(\"C:/Users/lenovo/OneDrive/Desktop/Telangana Project/foreign visitors/foreign_visitors_2017.csv\")\n",
    "fv18=pd.read_csv(\"C:/Users/lenovo/OneDrive/Desktop/Telangana Project/foreign visitors/foreign_visitors_2018.csv\")\n",
    "fv19=pd.read_csv(\"C:/Users/lenovo/OneDrive/Desktop/Telangana Project/foreign visitors/foreign_visitors_2019.csv\")"
   ]
  },
  {
   "cell_type": "code",
   "execution_count": 7,
   "id": "fea0ea9e-2575-48d1-94b8-06c3b17b5b5c",
   "metadata": {},
   "outputs": [],
   "source": [
    "fv=pd.concat([fv16,fv17,fv18,fv19])"
   ]
  },
  {
   "cell_type": "code",
   "execution_count": 8,
   "id": "d8560a71-dc88-4951-9be3-0145e7b17943",
   "metadata": {},
   "outputs": [
    {
     "data": {
      "text/html": [
       "<div>\n",
       "<style scoped>\n",
       "    .dataframe tbody tr th:only-of-type {\n",
       "        vertical-align: middle;\n",
       "    }\n",
       "\n",
       "    .dataframe tbody tr th {\n",
       "        vertical-align: top;\n",
       "    }\n",
       "\n",
       "    .dataframe thead th {\n",
       "        text-align: right;\n",
       "    }\n",
       "</style>\n",
       "<table border=\"1\" class=\"dataframe\">\n",
       "  <thead>\n",
       "    <tr style=\"text-align: right;\">\n",
       "      <th></th>\n",
       "      <th>district</th>\n",
       "      <th>date</th>\n",
       "      <th>month</th>\n",
       "      <th>year</th>\n",
       "      <th>visitors</th>\n",
       "    </tr>\n",
       "  </thead>\n",
       "  <tbody>\n",
       "    <tr>\n",
       "      <th>0</th>\n",
       "      <td>Adilabad</td>\n",
       "      <td>01-01-2016</td>\n",
       "      <td>January</td>\n",
       "      <td>2016</td>\n",
       "      <td>2</td>\n",
       "    </tr>\n",
       "    <tr>\n",
       "      <th>1</th>\n",
       "      <td>Adilabad</td>\n",
       "      <td>01-02-2016</td>\n",
       "      <td>February</td>\n",
       "      <td>2016</td>\n",
       "      <td>0</td>\n",
       "    </tr>\n",
       "    <tr>\n",
       "      <th>2</th>\n",
       "      <td>Adilabad</td>\n",
       "      <td>01-03-2016</td>\n",
       "      <td>March</td>\n",
       "      <td>2016</td>\n",
       "      <td>2</td>\n",
       "    </tr>\n",
       "    <tr>\n",
       "      <th>3</th>\n",
       "      <td>Adilabad</td>\n",
       "      <td>01-04-2016</td>\n",
       "      <td>April</td>\n",
       "      <td>2016</td>\n",
       "      <td>0</td>\n",
       "    </tr>\n",
       "    <tr>\n",
       "      <th>4</th>\n",
       "      <td>Adilabad</td>\n",
       "      <td>01-05-2016</td>\n",
       "      <td>May</td>\n",
       "      <td>2016</td>\n",
       "      <td>0</td>\n",
       "    </tr>\n",
       "  </tbody>\n",
       "</table>\n",
       "</div>"
      ],
      "text/plain": [
       "   district        date     month  year visitors\n",
       "0  Adilabad  01-01-2016   January  2016        2\n",
       "1  Adilabad  01-02-2016  February  2016        0\n",
       "2  Adilabad  01-03-2016     March  2016        2\n",
       "3  Adilabad  01-04-2016     April  2016        0\n",
       "4  Adilabad  01-05-2016       May  2016        0"
      ]
     },
     "execution_count": 8,
     "metadata": {},
     "output_type": "execute_result"
    }
   ],
   "source": [
    "fv.head(5)"
   ]
  },
  {
   "cell_type": "code",
   "execution_count": 9,
   "id": "03d71073-80ed-48ea-9e8b-4d7df20201a1",
   "metadata": {},
   "outputs": [
    {
     "data": {
      "text/html": [
       "<div>\n",
       "<style scoped>\n",
       "    .dataframe tbody tr th:only-of-type {\n",
       "        vertical-align: middle;\n",
       "    }\n",
       "\n",
       "    .dataframe tbody tr th {\n",
       "        vertical-align: top;\n",
       "    }\n",
       "\n",
       "    .dataframe thead th {\n",
       "        text-align: right;\n",
       "    }\n",
       "</style>\n",
       "<table border=\"1\" class=\"dataframe\">\n",
       "  <thead>\n",
       "    <tr style=\"text-align: right;\">\n",
       "      <th></th>\n",
       "      <th>district</th>\n",
       "      <th>date</th>\n",
       "      <th>month</th>\n",
       "      <th>year</th>\n",
       "      <th>visitors</th>\n",
       "    </tr>\n",
       "  </thead>\n",
       "  <tbody>\n",
       "    <tr>\n",
       "      <th>0</th>\n",
       "      <td>Adilabad</td>\n",
       "      <td>01-01-2016</td>\n",
       "      <td>January</td>\n",
       "      <td>2016</td>\n",
       "      <td>792136</td>\n",
       "    </tr>\n",
       "    <tr>\n",
       "      <th>1</th>\n",
       "      <td>Adilabad</td>\n",
       "      <td>01-02-2016</td>\n",
       "      <td>February</td>\n",
       "      <td>2016</td>\n",
       "      <td>937820</td>\n",
       "    </tr>\n",
       "    <tr>\n",
       "      <th>2</th>\n",
       "      <td>Adilabad</td>\n",
       "      <td>01-03-2016</td>\n",
       "      <td>March</td>\n",
       "      <td>2016</td>\n",
       "      <td>582946</td>\n",
       "    </tr>\n",
       "    <tr>\n",
       "      <th>3</th>\n",
       "      <td>Adilabad</td>\n",
       "      <td>01-04-2016</td>\n",
       "      <td>April</td>\n",
       "      <td>2016</td>\n",
       "      <td>341948</td>\n",
       "    </tr>\n",
       "    <tr>\n",
       "      <th>4</th>\n",
       "      <td>Adilabad</td>\n",
       "      <td>01-05-2016</td>\n",
       "      <td>May</td>\n",
       "      <td>2016</td>\n",
       "      <td>252887</td>\n",
       "    </tr>\n",
       "  </tbody>\n",
       "</table>\n",
       "</div>"
      ],
      "text/plain": [
       "   district        date     month  year visitors\n",
       "0  Adilabad  01-01-2016   January  2016   792136\n",
       "1  Adilabad  01-02-2016  February  2016   937820\n",
       "2  Adilabad  01-03-2016     March  2016   582946\n",
       "3  Adilabad  01-04-2016     April  2016   341948\n",
       "4  Adilabad  01-05-2016       May  2016   252887"
      ]
     },
     "execution_count": 9,
     "metadata": {},
     "output_type": "execute_result"
    }
   ],
   "source": [
    "dv.head(5)"
   ]
  },
  {
   "cell_type": "code",
   "execution_count": 9,
   "id": "fb5fd90f-8b6d-4154-b191-9f1adccadb2d",
   "metadata": {},
   "outputs": [
    {
     "data": {
      "text/plain": [
       "district    0\n",
       "date        0\n",
       "month       0\n",
       "year        0\n",
       "visitors    0\n",
       "dtype: int64"
      ]
     },
     "execution_count": 9,
     "metadata": {},
     "output_type": "execute_result"
    }
   ],
   "source": [
    "fv.isnull().sum()"
   ]
  },
  {
   "cell_type": "code",
   "execution_count": 10,
   "id": "95b1d028-8aa1-44a9-b672-931d8e0ace9f",
   "metadata": {},
   "outputs": [
    {
     "data": {
      "text/plain": [
       "district     0\n",
       "date         0\n",
       "month        0\n",
       "year         0\n",
       "visitors    30\n",
       "dtype: int64"
      ]
     },
     "execution_count": 10,
     "metadata": {},
     "output_type": "execute_result"
    }
   ],
   "source": [
    "dv.isnull().sum()"
   ]
  },
  {
   "cell_type": "code",
   "execution_count": 11,
   "id": "20eb8f41-0704-4e28-b56a-4f24ad17d544",
   "metadata": {},
   "outputs": [
    {
     "data": {
      "text/plain": [
       "0"
      ]
     },
     "execution_count": 11,
     "metadata": {},
     "output_type": "execute_result"
    }
   ],
   "source": [
    "fv.duplicated().sum()"
   ]
  },
  {
   "cell_type": "code",
   "execution_count": 12,
   "id": "bb82424f-e980-4f9a-8ac5-2aaa6fafeb65",
   "metadata": {},
   "outputs": [
    {
     "data": {
      "text/plain": [
       "0"
      ]
     },
     "execution_count": 12,
     "metadata": {},
     "output_type": "execute_result"
    }
   ],
   "source": [
    "dv.duplicated().sum()"
   ]
  },
  {
   "cell_type": "code",
   "execution_count": 13,
   "id": "e9235880-1ff3-454f-a88e-a64aeb977e68",
   "metadata": {},
   "outputs": [
    {
     "data": {
      "text/html": [
       "<div>\n",
       "<style scoped>\n",
       "    .dataframe tbody tr th:only-of-type {\n",
       "        vertical-align: middle;\n",
       "    }\n",
       "\n",
       "    .dataframe tbody tr th {\n",
       "        vertical-align: top;\n",
       "    }\n",
       "\n",
       "    .dataframe thead th {\n",
       "        text-align: right;\n",
       "    }\n",
       "</style>\n",
       "<table border=\"1\" class=\"dataframe\">\n",
       "  <thead>\n",
       "    <tr style=\"text-align: right;\">\n",
       "      <th></th>\n",
       "      <th>district</th>\n",
       "      <th>date</th>\n",
       "      <th>month</th>\n",
       "      <th>year</th>\n",
       "      <th>visitors</th>\n",
       "    </tr>\n",
       "  </thead>\n",
       "  <tbody>\n",
       "    <tr>\n",
       "      <th>12</th>\n",
       "      <td>Bhadradri Kothagudem</td>\n",
       "      <td>01-01-2016</td>\n",
       "      <td>January</td>\n",
       "      <td>2016</td>\n",
       "      <td></td>\n",
       "    </tr>\n",
       "    <tr>\n",
       "      <th>13</th>\n",
       "      <td>Bhadradri Kothagudem</td>\n",
       "      <td>01-02-2016</td>\n",
       "      <td>February</td>\n",
       "      <td>2016</td>\n",
       "      <td></td>\n",
       "    </tr>\n",
       "    <tr>\n",
       "      <th>14</th>\n",
       "      <td>Bhadradri Kothagudem</td>\n",
       "      <td>01-03-2016</td>\n",
       "      <td>March</td>\n",
       "      <td>2016</td>\n",
       "      <td></td>\n",
       "    </tr>\n",
       "    <tr>\n",
       "      <th>15</th>\n",
       "      <td>Bhadradri Kothagudem</td>\n",
       "      <td>01-04-2016</td>\n",
       "      <td>April</td>\n",
       "      <td>2016</td>\n",
       "      <td></td>\n",
       "    </tr>\n",
       "    <tr>\n",
       "      <th>16</th>\n",
       "      <td>Bhadradri Kothagudem</td>\n",
       "      <td>01-05-2016</td>\n",
       "      <td>May</td>\n",
       "      <td>2016</td>\n",
       "      <td></td>\n",
       "    </tr>\n",
       "    <tr>\n",
       "      <th>...</th>\n",
       "      <td>...</td>\n",
       "      <td>...</td>\n",
       "      <td>...</td>\n",
       "      <td>...</td>\n",
       "      <td>...</td>\n",
       "    </tr>\n",
       "    <tr>\n",
       "      <th>343</th>\n",
       "      <td>Vikarabad</td>\n",
       "      <td>01-08-2019</td>\n",
       "      <td>August</td>\n",
       "      <td>2019</td>\n",
       "      <td></td>\n",
       "    </tr>\n",
       "    <tr>\n",
       "      <th>344</th>\n",
       "      <td>Vikarabad</td>\n",
       "      <td>01-09-2019</td>\n",
       "      <td>September</td>\n",
       "      <td>2019</td>\n",
       "      <td></td>\n",
       "    </tr>\n",
       "    <tr>\n",
       "      <th>345</th>\n",
       "      <td>Vikarabad</td>\n",
       "      <td>01-10-2019</td>\n",
       "      <td>October</td>\n",
       "      <td>2019</td>\n",
       "      <td></td>\n",
       "    </tr>\n",
       "    <tr>\n",
       "      <th>346</th>\n",
       "      <td>Vikarabad</td>\n",
       "      <td>01-11-2019</td>\n",
       "      <td>November</td>\n",
       "      <td>2019</td>\n",
       "      <td></td>\n",
       "    </tr>\n",
       "    <tr>\n",
       "      <th>347</th>\n",
       "      <td>Vikarabad</td>\n",
       "      <td>01-12-2019</td>\n",
       "      <td>December</td>\n",
       "      <td>2019</td>\n",
       "      <td></td>\n",
       "    </tr>\n",
       "  </tbody>\n",
       "</table>\n",
       "<p>315 rows × 5 columns</p>\n",
       "</div>"
      ],
      "text/plain": [
       "                  district        date      month  year visitors\n",
       "12   Bhadradri Kothagudem   01-01-2016    January  2016         \n",
       "13   Bhadradri Kothagudem   01-02-2016   February  2016         \n",
       "14   Bhadradri Kothagudem   01-03-2016      March  2016         \n",
       "15   Bhadradri Kothagudem   01-04-2016      April  2016         \n",
       "16   Bhadradri Kothagudem   01-05-2016        May  2016         \n",
       "..                     ...         ...        ...   ...      ...\n",
       "343              Vikarabad  01-08-2019     August  2019         \n",
       "344              Vikarabad  01-09-2019  September  2019         \n",
       "345              Vikarabad  01-10-2019    October  2019         \n",
       "346              Vikarabad  01-11-2019   November  2019         \n",
       "347              Vikarabad  01-12-2019   December  2019         \n",
       "\n",
       "[315 rows x 5 columns]"
      ]
     },
     "execution_count": 13,
     "metadata": {},
     "output_type": "execute_result"
    }
   ],
   "source": [
    "dv[dv['visitors']==' ']"
   ]
  },
  {
   "cell_type": "code",
   "execution_count": 14,
   "id": "3488bbb6-4e74-4bdd-9e41-6ec39ba92131",
   "metadata": {},
   "outputs": [
    {
     "data": {
      "text/plain": [
       "district     0\n",
       "date         0\n",
       "month        0\n",
       "year         0\n",
       "visitors    30\n",
       "dtype: int64"
      ]
     },
     "execution_count": 14,
     "metadata": {},
     "output_type": "execute_result"
    }
   ],
   "source": [
    "dv.isnull().sum()"
   ]
  },
  {
   "cell_type": "code",
   "execution_count": 15,
   "id": "42b1f96d-5759-4558-86b8-2aeccc2fe7cb",
   "metadata": {},
   "outputs": [],
   "source": [
    "dv.fillna(0,inplace=True)"
   ]
  },
  {
   "cell_type": "code",
   "execution_count": 16,
   "id": "d18ec966-54c4-4a31-abee-f81bacc61432",
   "metadata": {},
   "outputs": [
    {
     "data": {
      "text/plain": [
       "district    0\n",
       "date        0\n",
       "month       0\n",
       "year        0\n",
       "visitors    0\n",
       "dtype: int64"
      ]
     },
     "execution_count": 16,
     "metadata": {},
     "output_type": "execute_result"
    }
   ],
   "source": [
    "dv.isnull().sum()"
   ]
  },
  {
   "cell_type": "code",
   "execution_count": 17,
   "id": "15959932-e2c3-4a30-a01b-e1f0c216e4c0",
   "metadata": {},
   "outputs": [
    {
     "data": {
      "text/html": [
       "<div>\n",
       "<style scoped>\n",
       "    .dataframe tbody tr th:only-of-type {\n",
       "        vertical-align: middle;\n",
       "    }\n",
       "\n",
       "    .dataframe tbody tr th {\n",
       "        vertical-align: top;\n",
       "    }\n",
       "\n",
       "    .dataframe thead th {\n",
       "        text-align: right;\n",
       "    }\n",
       "</style>\n",
       "<table border=\"1\" class=\"dataframe\">\n",
       "  <thead>\n",
       "    <tr style=\"text-align: right;\">\n",
       "      <th></th>\n",
       "      <th>district</th>\n",
       "      <th>date</th>\n",
       "      <th>month</th>\n",
       "      <th>year</th>\n",
       "      <th>visitors</th>\n",
       "    </tr>\n",
       "  </thead>\n",
       "  <tbody>\n",
       "    <tr>\n",
       "      <th>12</th>\n",
       "      <td>Bhadradri Kothagudem</td>\n",
       "      <td>01-01-2016</td>\n",
       "      <td>January</td>\n",
       "      <td>2016</td>\n",
       "      <td></td>\n",
       "    </tr>\n",
       "    <tr>\n",
       "      <th>13</th>\n",
       "      <td>Bhadradri Kothagudem</td>\n",
       "      <td>01-02-2016</td>\n",
       "      <td>February</td>\n",
       "      <td>2016</td>\n",
       "      <td></td>\n",
       "    </tr>\n",
       "    <tr>\n",
       "      <th>14</th>\n",
       "      <td>Bhadradri Kothagudem</td>\n",
       "      <td>01-03-2016</td>\n",
       "      <td>March</td>\n",
       "      <td>2016</td>\n",
       "      <td></td>\n",
       "    </tr>\n",
       "    <tr>\n",
       "      <th>15</th>\n",
       "      <td>Bhadradri Kothagudem</td>\n",
       "      <td>01-04-2016</td>\n",
       "      <td>April</td>\n",
       "      <td>2016</td>\n",
       "      <td></td>\n",
       "    </tr>\n",
       "    <tr>\n",
       "      <th>16</th>\n",
       "      <td>Bhadradri Kothagudem</td>\n",
       "      <td>01-05-2016</td>\n",
       "      <td>May</td>\n",
       "      <td>2016</td>\n",
       "      <td></td>\n",
       "    </tr>\n",
       "    <tr>\n",
       "      <th>...</th>\n",
       "      <td>...</td>\n",
       "      <td>...</td>\n",
       "      <td>...</td>\n",
       "      <td>...</td>\n",
       "      <td>...</td>\n",
       "    </tr>\n",
       "    <tr>\n",
       "      <th>343</th>\n",
       "      <td>Vikarabad</td>\n",
       "      <td>01-08-2019</td>\n",
       "      <td>August</td>\n",
       "      <td>2019</td>\n",
       "      <td></td>\n",
       "    </tr>\n",
       "    <tr>\n",
       "      <th>344</th>\n",
       "      <td>Vikarabad</td>\n",
       "      <td>01-09-2019</td>\n",
       "      <td>September</td>\n",
       "      <td>2019</td>\n",
       "      <td></td>\n",
       "    </tr>\n",
       "    <tr>\n",
       "      <th>345</th>\n",
       "      <td>Vikarabad</td>\n",
       "      <td>01-10-2019</td>\n",
       "      <td>October</td>\n",
       "      <td>2019</td>\n",
       "      <td></td>\n",
       "    </tr>\n",
       "    <tr>\n",
       "      <th>346</th>\n",
       "      <td>Vikarabad</td>\n",
       "      <td>01-11-2019</td>\n",
       "      <td>November</td>\n",
       "      <td>2019</td>\n",
       "      <td></td>\n",
       "    </tr>\n",
       "    <tr>\n",
       "      <th>347</th>\n",
       "      <td>Vikarabad</td>\n",
       "      <td>01-12-2019</td>\n",
       "      <td>December</td>\n",
       "      <td>2019</td>\n",
       "      <td></td>\n",
       "    </tr>\n",
       "  </tbody>\n",
       "</table>\n",
       "<p>315 rows × 5 columns</p>\n",
       "</div>"
      ],
      "text/plain": [
       "                  district        date      month  year visitors\n",
       "12   Bhadradri Kothagudem   01-01-2016    January  2016         \n",
       "13   Bhadradri Kothagudem   01-02-2016   February  2016         \n",
       "14   Bhadradri Kothagudem   01-03-2016      March  2016         \n",
       "15   Bhadradri Kothagudem   01-04-2016      April  2016         \n",
       "16   Bhadradri Kothagudem   01-05-2016        May  2016         \n",
       "..                     ...         ...        ...   ...      ...\n",
       "343              Vikarabad  01-08-2019     August  2019         \n",
       "344              Vikarabad  01-09-2019  September  2019         \n",
       "345              Vikarabad  01-10-2019    October  2019         \n",
       "346              Vikarabad  01-11-2019   November  2019         \n",
       "347              Vikarabad  01-12-2019   December  2019         \n",
       "\n",
       "[315 rows x 5 columns]"
      ]
     },
     "execution_count": 17,
     "metadata": {},
     "output_type": "execute_result"
    }
   ],
   "source": [
    "dv[dv['visitors']==' ']"
   ]
  },
  {
   "cell_type": "code",
   "execution_count": 18,
   "id": "60c8965a-f430-4396-915c-e7a279bd4563",
   "metadata": {},
   "outputs": [],
   "source": [
    "dv.replace(' ',0,inplace=True)"
   ]
  },
  {
   "cell_type": "code",
   "execution_count": 19,
   "id": "51e6a508-588c-404c-a0cd-3270bd97402b",
   "metadata": {},
   "outputs": [
    {
     "data": {
      "text/html": [
       "<div>\n",
       "<style scoped>\n",
       "    .dataframe tbody tr th:only-of-type {\n",
       "        vertical-align: middle;\n",
       "    }\n",
       "\n",
       "    .dataframe tbody tr th {\n",
       "        vertical-align: top;\n",
       "    }\n",
       "\n",
       "    .dataframe thead th {\n",
       "        text-align: right;\n",
       "    }\n",
       "</style>\n",
       "<table border=\"1\" class=\"dataframe\">\n",
       "  <thead>\n",
       "    <tr style=\"text-align: right;\">\n",
       "      <th></th>\n",
       "      <th>district</th>\n",
       "      <th>date</th>\n",
       "      <th>month</th>\n",
       "      <th>year</th>\n",
       "      <th>visitors</th>\n",
       "    </tr>\n",
       "  </thead>\n",
       "  <tbody>\n",
       "    <tr>\n",
       "      <th>12</th>\n",
       "      <td>Bhadradri Kothagudem</td>\n",
       "      <td>01-01-2016</td>\n",
       "      <td>January</td>\n",
       "      <td>2016</td>\n",
       "      <td></td>\n",
       "    </tr>\n",
       "    <tr>\n",
       "      <th>13</th>\n",
       "      <td>Bhadradri Kothagudem</td>\n",
       "      <td>01-02-2016</td>\n",
       "      <td>February</td>\n",
       "      <td>2016</td>\n",
       "      <td></td>\n",
       "    </tr>\n",
       "    <tr>\n",
       "      <th>14</th>\n",
       "      <td>Bhadradri Kothagudem</td>\n",
       "      <td>01-03-2016</td>\n",
       "      <td>March</td>\n",
       "      <td>2016</td>\n",
       "      <td></td>\n",
       "    </tr>\n",
       "    <tr>\n",
       "      <th>15</th>\n",
       "      <td>Bhadradri Kothagudem</td>\n",
       "      <td>01-04-2016</td>\n",
       "      <td>April</td>\n",
       "      <td>2016</td>\n",
       "      <td></td>\n",
       "    </tr>\n",
       "    <tr>\n",
       "      <th>16</th>\n",
       "      <td>Bhadradri Kothagudem</td>\n",
       "      <td>01-05-2016</td>\n",
       "      <td>May</td>\n",
       "      <td>2016</td>\n",
       "      <td></td>\n",
       "    </tr>\n",
       "    <tr>\n",
       "      <th>...</th>\n",
       "      <td>...</td>\n",
       "      <td>...</td>\n",
       "      <td>...</td>\n",
       "      <td>...</td>\n",
       "      <td>...</td>\n",
       "    </tr>\n",
       "    <tr>\n",
       "      <th>343</th>\n",
       "      <td>Vikarabad</td>\n",
       "      <td>01-08-2019</td>\n",
       "      <td>August</td>\n",
       "      <td>2019</td>\n",
       "      <td></td>\n",
       "    </tr>\n",
       "    <tr>\n",
       "      <th>344</th>\n",
       "      <td>Vikarabad</td>\n",
       "      <td>01-09-2019</td>\n",
       "      <td>September</td>\n",
       "      <td>2019</td>\n",
       "      <td></td>\n",
       "    </tr>\n",
       "    <tr>\n",
       "      <th>345</th>\n",
       "      <td>Vikarabad</td>\n",
       "      <td>01-10-2019</td>\n",
       "      <td>October</td>\n",
       "      <td>2019</td>\n",
       "      <td></td>\n",
       "    </tr>\n",
       "    <tr>\n",
       "      <th>346</th>\n",
       "      <td>Vikarabad</td>\n",
       "      <td>01-11-2019</td>\n",
       "      <td>November</td>\n",
       "      <td>2019</td>\n",
       "      <td></td>\n",
       "    </tr>\n",
       "    <tr>\n",
       "      <th>347</th>\n",
       "      <td>Vikarabad</td>\n",
       "      <td>01-12-2019</td>\n",
       "      <td>December</td>\n",
       "      <td>2019</td>\n",
       "      <td></td>\n",
       "    </tr>\n",
       "  </tbody>\n",
       "</table>\n",
       "<p>320 rows × 5 columns</p>\n",
       "</div>"
      ],
      "text/plain": [
       "                  district        date      month  year visitors\n",
       "12   Bhadradri Kothagudem   01-01-2016    January  2016         \n",
       "13   Bhadradri Kothagudem   01-02-2016   February  2016         \n",
       "14   Bhadradri Kothagudem   01-03-2016      March  2016         \n",
       "15   Bhadradri Kothagudem   01-04-2016      April  2016         \n",
       "16   Bhadradri Kothagudem   01-05-2016        May  2016         \n",
       "..                     ...         ...        ...   ...      ...\n",
       "343              Vikarabad  01-08-2019     August  2019         \n",
       "344              Vikarabad  01-09-2019  September  2019         \n",
       "345              Vikarabad  01-10-2019    October  2019         \n",
       "346              Vikarabad  01-11-2019   November  2019         \n",
       "347              Vikarabad  01-12-2019   December  2019         \n",
       "\n",
       "[320 rows x 5 columns]"
      ]
     },
     "execution_count": 19,
     "metadata": {},
     "output_type": "execute_result"
    }
   ],
   "source": [
    "fv[fv['visitors']==' ']"
   ]
  },
  {
   "cell_type": "code",
   "execution_count": 20,
   "id": "76d79858-b44d-4370-a4c5-627b62c439b8",
   "metadata": {},
   "outputs": [],
   "source": [
    "fv.replace(' ',0,inplace=True)"
   ]
  },
  {
   "cell_type": "code",
   "execution_count": 51,
   "id": "e4d27f63-ffd8-43c1-b720-069401a6ca33",
   "metadata": {},
   "outputs": [],
   "source": [
    "fv.to_csv('foreign_visitors')\n",
    "dv.to_csv('domestic_visitors')"
   ]
  },
  {
   "cell_type": "code",
   "execution_count": null,
   "id": "cdb8781e-638d-4f12-b039-a47d5c9fff23",
   "metadata": {},
   "outputs": [],
   "source": []
  }
 ],
 "metadata": {
  "kernelspec": {
   "display_name": "Python 3 (ipykernel)",
   "language": "python",
   "name": "python3"
  },
  "language_info": {
   "codemirror_mode": {
    "name": "ipython",
    "version": 3
   },
   "file_extension": ".py",
   "mimetype": "text/x-python",
   "name": "python",
   "nbconvert_exporter": "python",
   "pygments_lexer": "ipython3",
   "version": "3.12.0"
  }
 },
 "nbformat": 4,
 "nbformat_minor": 5
}
